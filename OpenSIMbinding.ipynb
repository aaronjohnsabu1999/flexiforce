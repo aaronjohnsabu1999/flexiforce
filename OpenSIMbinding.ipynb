{
 "cells": [
  {
   "cell_type": "markdown",
   "id": "f60b539e",
   "metadata": {},
   "source": [
    "# **Import Statements**"
   ]
  },
  {
   "cell_type": "code",
   "execution_count": 1,
   "id": "c88a5d1e",
   "metadata": {},
   "outputs": [],
   "source": [
    "import opensim as osim\n",
    "import matplotlib.pyplot as plt\n",
    "import numpy as np\n",
    "from Bicep import Bicep_Curl\n",
    "osim.GetVersionAndDate()\n",
    "\n",
    "\n",
    "%load_ext autoreload\n",
    "%autoreload 2"
   ]
  },
  {
   "cell_type": "markdown",
   "id": "3132a4b7",
   "metadata": {},
   "source": [
    "# **Model Loading**"
   ]
  },
  {
   "cell_type": "code",
   "execution_count": 54,
   "id": "fabac65c",
   "metadata": {},
   "outputs": [
    {
     "name": "stdout",
     "output_type": "stream",
     "text": [
      "Name of the model: arm26\n",
      "Author: The OpenSim Development Team (Reinbolt, J; Seth, A; Habib, A; Hamner, S) adapted from a model originally created by Kate Holzbaur (11/22/04) License: Creative Commons (CCBY 3.0). You are free to distribute, remix, tweak, and build upon this work, even commercially, as long as you credit us for the original creation. http://creativecommons.org/licenses/by/3.0/\n",
      "Publications: Holzbaur, K.R.S., Murray, W.M., Delp, S.L. A Model of the Upper Extremity for Simulating Musculoskeletal Surgery and Analyzing Neuromuscular Control. Annals of Biomedical Engineering, vol 33, pp 829–840, 2005\n",
      "Length Unit: meters\n",
      "Force Unit: N\n",
      "Gravity: ~[0,-9.8066,0]\n",
      "('r_shoulder_elev', 'r_elbow_flex')\n"
     ]
    }
   ],
   "source": [
    "# Load the model.\n",
    "arm26 = osim.Model('OpenSIM_utils\\\\Arm26\\\\arm26.osim')\n",
    "\n",
    "# Print metadata.\n",
    "print(\"Name of the model:\", arm26.getName())\n",
    "print(\"Author:\", arm26.get_credits())\n",
    "print(\"Publications:\", arm26.get_publications())\n",
    "print(\"Length Unit:\", arm26.get_length_units())\n",
    "print(\"Force Unit:\", arm26.get_force_units())\n",
    "print(\"Gravity:\", arm26.get_gravity())\n",
    "\n",
    "# Use the TableProcessor to read the motion file.\n",
    "tableTime = osim.TimeSeriesTable('OpenSIM_utils\\\\Arm26\\\\OutputReference\\\\InverseKinematics\\\\arm26_InverseKinematics.mot')\n",
    "print(tableTime.getColumnLabels())\n",
    "\n",
    "#Named variables\n",
    "r_shoulder_elev = tableTime.getDependentColumn('r_shoulder_elev').to_numpy()\n",
    "r_elbow_flex = tableTime.getDependentColumn('r_elbow_flex').to_numpy()\n",
    "t = tableTime.getIndependentColumn()\n"
   ]
  },
  {
   "cell_type": "code",
   "execution_count": 3,
   "id": "258d0eb2",
   "metadata": {},
   "outputs": [
    {
     "data": {
      "image/png": "[encoded data removed]",
      "text/plain": [
       "<Figure size 640x480 with 1 Axes>"
      ]
     },
     "metadata": {},
     "output_type": "display_data"
    }
   ],
   "source": [
    "#plt.plot(t, r_shoulder_elev)\n",
    "plt.plot(t, r_elbow_flex)\n",
    "plt.show()\n"
   ]
  },
  {
   "cell_type": "markdown",
   "id": "5d2c3580",
   "metadata": {},
   "source": [
    "# **Implementation of Static Optimization**"
   ]
  },
  {
   "cell_type": "code",
   "execution_count": 107,
   "id": "d4e7dde1",
   "metadata": {},
   "outputs": [
    {
     "name": "stderr",
     "output_type": "stream",
     "text": [
      "Exception ignored in: <generator object FrameList.__iter__ at 0x000001F7E214C740>\n",
      "Traceback (most recent call last):\n",
      "  File \"<string>\", line 29, in step_simulation\n",
      "RuntimeError: generator ignored GeneratorExit\n"
     ]
    },
    {
     "name": "stdout",
     "output_type": "stream",
     "text": [
      "a\n"
     ]
    },
    {
     "ename": "RuntimeError",
     "evalue": "std::exception in 'SimTK::Vec3 OpenSim::Frame::getPositionInGround(SimTK::State const &) const': SimTK Exception thrown at State.cpp:974:\n  Error detected by Simbody method getCacheEntry: State Cache entry was out of date at Stage Time. This entry depends on version 1 of Stage Instance but was last updated at version 0.\n  (Required condition 'version == m_dependsOnVersionWhenLastComputed' was not met.)\n",
     "output_type": "error",
     "traceback": [
      "\u001b[31m---------------------------------------------------------------------------\u001b[39m",
      "\u001b[31mRuntimeError\u001b[39m                              Traceback (most recent call last)",
      "\u001b[32m~\\AppData\\Local\\Temp\\ipykernel_34508\\1296003913.py\u001b[39m in \u001b[36m?\u001b[39m\u001b[34m()\u001b[39m\n\u001b[32m      4\u001b[39m \n\u001b[32m      5\u001b[39m \u001b[38;5;66;03m# Run Simulation Under zero external force\u001b[39;00m\n\u001b[32m      6\u001b[39m activation = []\n\u001b[32m      7\u001b[39m \u001b[38;5;28;01mfor\u001b[39;00m i \u001b[38;5;28;01min\u001b[39;00m range(int(curl_time*step_per_second)):\n\u001b[32m----> \u001b[39m\u001b[32m8\u001b[39m     activation.append(bicep.step_simulation(i, [\u001b[32m0\u001b[39m, -\u001b[32m50.0\u001b[39m, \u001b[32m0\u001b[39m]))\n\u001b[32m      9\u001b[39m \n\u001b[32m     10\u001b[39m \n\u001b[32m     11\u001b[39m \u001b[38;5;66;03m#Plotting\u001b[39;00m\n",
      "\u001b[32m<string>\u001b[39m in \u001b[36m?\u001b[39m\u001b[34m(self, step_index, force_vector)\u001b[39m\n",
      "\u001b[32mc:\\ProgramData\\anaconda3\\envs\\Flexiforce\\Lib\\opensim\\simulation.py\u001b[39m in \u001b[36m?\u001b[39m\u001b[34m(self, state)\u001b[39m\n\u001b[32m   2799\u001b[39m     \u001b[38;5;28;01mdef\u001b[39;00m getPositionInGround(self, state):\n\u001b[32m   2800\u001b[39m         \u001b[33mr\"\"\" Accessor for position of the origin of the Frame in Ground.\"\"\"\u001b[39m\n\u001b[32m-> \u001b[39m\u001b[32m2801\u001b[39m         \u001b[38;5;28;01mreturn\u001b[39;00m _simulation.Frame_getPositionInGround(self, state)\n",
      "\u001b[31mRuntimeError\u001b[39m: std::exception in 'SimTK::Vec3 OpenSim::Frame::getPositionInGround(SimTK::State const &) const': SimTK Exception thrown at State.cpp:974:\n  Error detected by Simbody method getCacheEntry: State Cache entry was out of date at Stage Time. This entry depends on version 1 of Stage Instance but was last updated at version 0.\n  (Required condition 'version == m_dependsOnVersionWhenLastComputed' was not met.)\n"
     ]
    }
   ],
   "source": [
    "step_per_second = 100\n",
    "curl_time = 2 #in seconds\n",
    "bicep = Bicep_Curl(curl_time = curl_time, sps = step_per_second)\n",
    "\n",
    "# Run Simulation Under zero external force\n",
    "activation = []\n",
    "for i in range(int(curl_time*step_per_second)):\n",
    "    activation.append(bicep.step_simulation(i, [0, -50.0, 0]))\n",
    "\n",
    "\n",
    "#Plotting\n",
    "t, elbow_traj = bicep._traj()\n",
    "plt.plot(t, np.rad2deg(elbow_traj)) \n",
    "plt.xlabel(\"Time (s)\")\n",
    "plt.ylabel(\"Joint Angle (Deg)\")\n",
    "plt.title(\"Specified Elbow Joint Exercise Trajectory\")\n",
    "plt.show()\n",
    "\n",
    "activation = np.asarray(activation)*100\n",
    "plt.plot(t, activation)\n",
    "plt.xlabel(\"Time (s)\")\n",
    "plt.ylabel(\"Biceps Activation Percentage\")\n",
    "plt.title(\"Simulated Biceps Activation Trajectory\")\n",
    "plt.show()"
   ]
  },
  {
   "cell_type": "code",
   "execution_count": null,
   "id": "0fbe5ebd",
   "metadata": {},
   "outputs": [],
   "source": []
  }
 ],
 "metadata": {
  "kernelspec": {
   "display_name": "Flexiforce",
   "language": "python",
   "name": "python3"
  },
  "language_info": {
   "codemirror_mode": {
    "name": "ipython",
    "version": 3
   },
   "file_extension": ".py",
   "mimetype": "text/x-python",
   "name": "python",
   "nbconvert_exporter": "python",
   "pygments_lexer": "ipython3",
   "version": "3.12.9"
  }
 },
 "nbformat": 4,
 "nbformat_minor": 5
}
