{
 "cells": [
  {
   "cell_type": "markdown",
   "id": "f60b539e",
   "metadata": {},
   "source": [
    "# **Import Statements**"
   ]
  },
  {
   "cell_type": "code",
   "execution_count": 48,
   "id": "c88a5d1e",
   "metadata": {},
   "outputs": [
    {
     "data": {
      "text/plain": [
       "'version 4.5.2-2025-04-07-2c9fc5bc9, build date 09:56:22 Apr  9 2025'"
      ]
     },
     "execution_count": 48,
     "metadata": {},
     "output_type": "execute_result"
    }
   ],
   "source": [
    "import opensim as osim\n",
    "import matplotlib.pyplot as plt\n",
    "import numpy as np\n",
    "osim.GetVersionAndDate()"
   ]
  },
  {
   "cell_type": "markdown",
   "id": "3132a4b7",
   "metadata": {},
   "source": [
    "# **Model Loading**"
   ]
  },
  {
   "cell_type": "code",
   "execution_count": null,
   "id": "fabac65c",
   "metadata": {},
   "outputs": [
    {
     "name": "stdout",
     "output_type": "stream",
     "text": [
      "Name of the model: arm26\n",
      "Author: The OpenSim Development Team (Reinbolt, J; Seth, A; Habib, A; Hamner, S) adapted from a model originally created by Kate Holzbaur (11/22/04) License: Creative Commons (CCBY 3.0). You are free to distribute, remix, tweak, and build upon this work, even commercially, as long as you credit us for the original creation. http://creativecommons.org/licenses/by/3.0/\n",
      "Publications: Holzbaur, K.R.S., Murray, W.M., Delp, S.L. A Model of the Upper Extremity for Simulating Musculoskeletal Surgery and Analyzing Neuromuscular Control. Annals of Biomedical Engineering, vol 33, pp 829–840, 2005\n",
      "Length Unit: meters\n",
      "Force Unit: N\n",
      "Gravity: ~[0,-9.8066,0]\n",
      "('r_shoulder_elev', 'r_elbow_flex')\n"
     ]
    }
   ],
   "source": [
    "# Load the model.\n",
    "arm26 = osim.Model('OpenSIM_utils\\\\Arm26\\\\arm26.osim')\n",
    "\n",
    "# Print metadata.\n",
    "print(\"Name of the model:\", arm26.getName())\n",
    "print(\"Author:\", arm26.get_credits())\n",
    "print(\"Publications:\", arm26.get_publications())\n",
    "print(\"Length Unit:\", arm26.get_length_units())\n",
    "print(\"Force Unit:\", arm26.get_force_units())\n",
    "print(\"Gravity:\", arm26.get_gravity())\n",
    "\n",
    "# Use the TableProcessor to read the motion file.\n",
    "tableTime = osim.TimeSeriesTable('OpenSIM_utils\\\\Arm26\\\\OutputReference\\\\InverseKinematics\\\\arm26_InverseKinematics.mot')\n",
    "print(tableTime.getColumnLabels())\n",
    "\n",
    "#Named variables\n",
    "r_shoulder_elev = tableTime.getDependentColumn('r_shoulder_elev').to_numpy()\n",
    "r_elbow_flex = tableTime.getDependentColumn('r_elbow_flex').to_numpy()\n",
    "t = tableTime.getIndependentColumn()\n"
   ]
  },
  {
   "cell_type": "code",
   "execution_count": 5,
   "id": "258d0eb2",
   "metadata": {},
   "outputs": [
    {
     "data": {
      "image/png": "[encoded data removed]",
      "text/plain": [
       "<Figure size 640x480 with 1 Axes>"
      ]
     },
     "metadata": {},
     "output_type": "display_data"
    }
   ],
   "source": [
    "plt.plot(t, r_elbow_flex*1.3)\n",
    "plt.show()\n"
   ]
  },
  {
   "cell_type": "code",
   "execution_count": 52,
   "id": "18a1ab59",
   "metadata": {},
   "outputs": [
    {
     "ename": "RuntimeError",
     "evalue": "std::exception in 'bool OpenSim::AnalyzeTool::run()': Object: Could not open file IO. It may not exist or you don't have permission to read it.",
     "output_type": "error",
     "traceback": [
      "\u001b[31m---------------------------------------------------------------------------\u001b[39m",
      "\u001b[31mRuntimeError\u001b[39m                              Traceback (most recent call last)",
      "\u001b[36mCell\u001b[39m\u001b[36m \u001b[39m\u001b[32mIn[52]\u001b[39m\u001b[32m, line 109\u001b[39m\n\u001b[32m    104\u001b[39m         \u001b[38;5;28mself\u001b[39m.sto.write(\u001b[38;5;28mself\u001b[39m.force_table, \u001b[38;5;28mself\u001b[39m.force_path)\n\u001b[32m    108\u001b[39m curl_exercise = Bicep_Curl()\n\u001b[32m--> \u001b[39m\u001b[32m109\u001b[39m \u001b[43mcurl_exercise\u001b[49m\u001b[43m.\u001b[49m\u001b[43mstep_simulation\u001b[49m\u001b[43m(\u001b[49m\u001b[32;43m0\u001b[39;49m\u001b[43m,\u001b[49m\u001b[43m \u001b[49m\u001b[32;43m0.0\u001b[39;49m\u001b[43m)\u001b[49m\n",
      "\u001b[36mCell\u001b[39m\u001b[36m \u001b[39m\u001b[32mIn[52]\u001b[39m\u001b[32m, line 82\u001b[39m, in \u001b[36mBicep_Curl.step_simulation\u001b[39m\u001b[34m(self, step_index, force_vector)\u001b[39m\n\u001b[32m     80\u001b[39m \u001b[38;5;66;03m#Run\u001b[39;00m\n\u001b[32m     81\u001b[39m \u001b[38;5;28mself\u001b[39m.step_analysis.setResultsDir(\u001b[38;5;28mself\u001b[39m.base_path + \u001b[33m\"\u001b[39m\u001b[38;5;130;01m\\\\\u001b[39;00m\u001b[33mResults\u001b[39m\u001b[33m\"\u001b[39m)\n\u001b[32m---> \u001b[39m\u001b[32m82\u001b[39m \u001b[38;5;28;43mself\u001b[39;49m\u001b[43m.\u001b[49m\u001b[43mstep_analysis\u001b[49m\u001b[43m.\u001b[49m\u001b[43mrun\u001b[49m\u001b[43m(\u001b[49m\u001b[43m)\u001b[49m\n\u001b[32m     84\u001b[39m \u001b[38;5;66;03m#Access Results to return biceps activation\u001b[39;00m\n\u001b[32m     85\u001b[39m results = osim.TimeSeriesTable()\n",
      "\u001b[36mFile \u001b[39m\u001b[32mc:\\ProgramData\\anaconda3\\envs\\Flexiforce\\Lib\\opensim\\tools.py:3679\u001b[39m, in \u001b[36mAnalyzeTool.run\u001b[39m\u001b[34m(self, *args)\u001b[39m\n\u001b[32m   3678\u001b[39m \u001b[38;5;28;01mdef\u001b[39;00m\u001b[38;5;250m \u001b[39m\u001b[34mrun\u001b[39m(\u001b[38;5;28mself\u001b[39m, *args):\n\u001b[32m-> \u001b[39m\u001b[32m3679\u001b[39m     \u001b[38;5;28;01mreturn\u001b[39;00m \u001b[43m_tools\u001b[49m\u001b[43m.\u001b[49m\u001b[43mAnalyzeTool_run\u001b[49m\u001b[43m(\u001b[49m\u001b[38;5;28;43mself\u001b[39;49m\u001b[43m,\u001b[49m\u001b[43m \u001b[49m\u001b[43m*\u001b[49m\u001b[43margs\u001b[49m\u001b[43m)\u001b[49m\n",
      "\u001b[31mRuntimeError\u001b[39m: std::exception in 'bool OpenSim::AnalyzeTool::run()': Object: Could not open file IO. It may not exist or you don't have permission to read it."
     ]
    }
   ],
   "source": [
    "class Bicep_Curl: \n",
    "\n",
    "    def __init__(self, curl_time = 2, rom = 135, sps = 250, base_path = 'OpenSIM_utils\\\\Arm26\\\\Flexiforce\\\\', model = 'arm26.osim'):\n",
    "        '''\n",
    "        curl_time: duration of the biceps curl in seconds\n",
    "        rom: range of motion of the elbow joint; ie: following a trajectory from 0 degrees to rom degrees\n",
    "        sps: steps per second, defines the resolution of the simulation\n",
    "\n",
    "        base_path: path to the directory with the .osim model and where static optimization results will be stored\n",
    "        model: .osim filename of the model in the base_path directory to be used for the analysis\n",
    "        '''\n",
    "        \n",
    "        #Housekeeping\n",
    "        self.base_path = base_path\n",
    "        self.traj_path = base_path + 'bicep_curl.sto'\n",
    "        self.force_path = base_path + 'robot_force.sto'\n",
    "        self.model = osim.Model(base_path + model)\n",
    "        self.model.setup()\n",
    "        self.state = self.model.initSystem()\n",
    "\n",
    "        #Generate Elbow Trajectory from desired characteristics\n",
    "        self.t = np.linspace(0, curl_time, int(curl_time*sps))\n",
    "        k = 12/curl_time\n",
    "        b = curl_time/2\n",
    "        self.elbow_trajectory = rom/(1 + np.exp(-k*(self.t-b)))\n",
    "\n",
    "        #Initialize trajectory and forces dictionaries\n",
    "        self.traj_dict = {\n",
    "            \"r_shoulder_elev\": np.zeros(self.t.shape),\n",
    "            \"r_elbow_flex\": self.elbow_trajectory\n",
    "        }\n",
    "        self.force_dict = {\n",
    "            \"Fz\": np.zeros(self.t.shape)\n",
    "        }\n",
    "        \n",
    "        #Create Tables\n",
    "        self.traj_table = self.make_OSIMtable(self.traj_dict)\n",
    "        self.force_table = self.make_OSIMtable(self.force_dict)\n",
    "\n",
    "        #Convert Table objects to .sto\n",
    "        self.sto = osim.STOFileAdapter()\n",
    "        self.sto.write(self.traj_table, self.traj_path)\n",
    "        self.sto.write(self.force_table, self.force_path)\n",
    "\n",
    "        #Initialize Static Optimizer/Tools\n",
    "        self.optimizer = osim.StaticOptimization()\n",
    "        self.analyzer = osim.AnalyzeTool()\n",
    "        self.analyzer.setModel(self.model)\n",
    "        self.analyzer.setModelFilename(self.model.getDocumentFileName())\n",
    "        self.analyzer.setCoordinatesFileName(self.traj_path)\n",
    "        self.analyzer.setExternalLoadsFileName(self.force_path)\n",
    "        self.analyzer.setStatesFromMotion(self.state, osim.Storage(self.traj_path), True)\n",
    "        self.analyzer.setName(\"Bicep_Curl\")\n",
    "\n",
    "        \n",
    "\n",
    "    def step_simulation(self, step_index, force_vector):\n",
    "        \n",
    "        #Set time of step in Static Optimizer/Tools\n",
    "        t = self.t[step_index]\n",
    "        self.optimizer.setStartTime(t)\n",
    "        self.optimizer.setEndTime(t)\n",
    "        self.analyzer.setStartTime(t)\n",
    "        self.analyzer.setFinalTime(t)\n",
    "\n",
    "        #add force_vector to time index\n",
    "        robot_force = osim.TimeSeriesTable(self.force_path)\n",
    "        Fz = robot_force.getDependentColumn('Fz').to_numpy()\n",
    "        Fz[step_index] = force_vector\n",
    "        force_dict = {\n",
    "            \"Fz\": Fz\n",
    "        }\n",
    "        self.force_table = self.make_OSIMtable(force_dict)\n",
    "        self.sto.write(self.force_table, self.force_path)\n",
    "\n",
    "        #Setup step analyzer\n",
    "        self.step_analysis = self.analyzer.clone()\n",
    "        self.step_analysis.updAnalysisSet().cloneAndAppend(self.optimizer)\n",
    "\n",
    "        #Run\n",
    "        self.step_analysis.setResultsDir(self.base_path + \"\\\\Results\")\n",
    "        self.step_analysis.run()\n",
    "\n",
    "        #Access Results to return biceps activation\n",
    "        results = osim.TimeSeriesTable()\n",
    "\n",
    "        return \n",
    "\n",
    "\n",
    "\n",
    "    def make_OSIMtable(self, columns = dict):\n",
    "        OSIMtable = osim.TimeSeriesTable(self.t)\n",
    "        for key, value in columns.items():\n",
    "            OSIMtable.appendColumn(key, osim.Vector.createFromMat(value))\n",
    "\n",
    "        return OSIMtable\n",
    "    \n",
    "\n",
    "\n",
    "    def _reset(self):\n",
    "        for key, _ in self.force_dict.item():\n",
    "            self.force_dict[key] = np.zeros(self.t.shape)\n",
    "        self.force_table = self.make_OSIMtable(self.force_dict)\n",
    "        self.sto.write(self.force_table, self.force_path)\n",
    "\n",
    "\n",
    "\n",
    "curl_exercise = Bicep_Curl()\n",
    "curl_exercise.step_simulation(0, 0.0)"
   ]
  },
  {
   "cell_type": "code",
   "execution_count": null,
   "id": "48d9a6a4",
   "metadata": {},
   "outputs": [],
   "source": []
  }
 ],
 "metadata": {
  "kernelspec": {
   "display_name": "Flexiforce",
   "language": "python",
   "name": "python3"
  },
  "language_info": {
   "codemirror_mode": {
    "name": "ipython",
    "version": 3
   },
   "file_extension": ".py",
   "mimetype": "text/x-python",
   "name": "python",
   "nbconvert_exporter": "python",
   "pygments_lexer": "ipython3",
   "version": "3.12.9"
  }
 },
 "nbformat": 4,
 "nbformat_minor": 5
}
