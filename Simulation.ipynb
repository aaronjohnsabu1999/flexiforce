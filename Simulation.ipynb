{
 "cells": [
  {
   "cell_type": "markdown",
   "id": "30042743",
   "metadata": {},
   "source": [
    "# **Import Statements**"
   ]
  },
  {
   "cell_type": "code",
   "execution_count": null,
   "id": "997d2d90",
   "metadata": {
    "vscode": {
     "languageId": "plaintext"
    }
   },
   "outputs": [],
   "source": [
    "import opensim as osim\n",
    "import matplotlib.pyplot as plt\n",
    "import numpy as np\n",
    "from Bicep import Bicep_Curl\n",
    "osim.GetVersionAndDate()\n",
    "\n",
    "\n",
    "%load_ext autoreload\n",
    "%autoreload 2"
   ]
  },
  {
   "cell_type": "markdown",
   "id": "5992ddad",
   "metadata": {},
   "source": [
    "# **Model Parameters**"
   ]
  },
  {
   "cell_type": "code",
   "execution_count": null,
   "id": "89d78030",
   "metadata": {
    "vscode": {
     "languageId": "plaintext"
    }
   },
   "outputs": [],
   "source": [
    "# Load the model.\n",
    "arm26 = osim.Model('OpenSIM_utils\\\\Arm26\\\\arm26.osim')\n",
    "\n",
    "# Print metadata.\n",
    "print(\"Name of the model:\", arm26.getName())\n",
    "print(\"Author:\", arm26.get_credits())\n",
    "print(\"Publications:\", arm26.get_publications())\n",
    "print(\"Length Unit:\", arm26.get_length_units())\n",
    "print(\"Force Unit:\", arm26.get_force_units())\n",
    "print(\"Gravity:\", arm26.get_gravity())\n",
    "\n",
    "# Use the TableProcessor to read the motion file.\n",
    "tableTime = osim.TimeSeriesTable('OpenSIM_utils\\\\Arm26\\\\OutputReference\\\\InverseKinematics\\\\arm26_InverseKinematics.mot')\n",
    "print(tableTime.getColumnLabels())\n",
    "\n",
    "#Named variables\n",
    "r_shoulder_elev = tableTime.getDependentColumn('r_shoulder_elev').to_numpy()\n",
    "r_elbow_flex = tableTime.getDependentColumn('r_elbow_flex').to_numpy()\n",
    "t = tableTime.getIndependentColumn()\n"
   ]
  },
  {
   "cell_type": "markdown",
   "id": "bae59e0f",
   "metadata": {},
   "source": [
    "# **Simulation**"
   ]
  },
  {
   "cell_type": "code",
   "execution_count": null,
   "id": "640eb467",
   "metadata": {
    "vscode": {
     "languageId": "plaintext"
    }
   },
   "outputs": [],
   "source": [
    "step_per_second = 100\n",
    "curl_time = 2 #in seconds\n",
    "bicep = Bicep_Curl(curl_time = curl_time, sps = step_per_second)\n",
    "\n",
    "# Run Simulation Under zero external force\n",
    "activation = []\n",
    "for i in range(int(curl_time*step_per_second)):\n",
    "    activation.append(bicep.step_simulation(i, [0, -25.0, 0]))\n",
    "\n",
    "\n",
    "#Plotting\n",
    "t, elbow_traj = bicep._traj()\n",
    "plt.plot(t, np.rad2deg(elbow_traj)) \n",
    "plt.xlabel(\"Time (s)\")\n",
    "plt.ylabel(\"Joint Angle (Deg)\")\n",
    "plt.title(\"Specified Elbow Joint Exercise Trajectory\")\n",
    "plt.show()\n",
    "\n",
    "activation = np.asarray(activation)*100\n",
    "plt.plot(t, activation)\n",
    "plt.xlabel(\"Time (s)\")\n",
    "plt.ylabel(\"Biceps Activation Percentage\")\n",
    "plt.title(\"Simulated Biceps Activation Trajectory\")\n",
    "plt.show()"
   ]
  }
 ],
 "metadata": {
  "language_info": {
   "name": "python"
  }
 },
 "nbformat": 4,
 "nbformat_minor": 5
}
